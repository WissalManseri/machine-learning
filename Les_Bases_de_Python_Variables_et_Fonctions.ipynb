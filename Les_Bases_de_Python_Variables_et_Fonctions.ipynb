{
  "nbformat": 4,
  "nbformat_minor": 0,
  "metadata": {
    "colab": {
      "name": "Les Bases de Python - Variables et Fonctions.ipynb",
      "provenance": [],
      "authorship_tag": "ABX9TyN2Mw9ckOztj8kfJcaDoRUB",
      "include_colab_link": true
    },
    "kernelspec": {
      "name": "python3",
      "display_name": "Python 3"
    },
    "language_info": {
      "name": "python"
    }
  },
  "cells": [
    {
      "cell_type": "markdown",
      "metadata": {
        "id": "view-in-github",
        "colab_type": "text"
      },
      "source": [
        "<a href=\"https://colab.research.google.com/github/WISSAL-MN/machine-learning/blob/main/Les_Bases_de_Python_Variables_et_Fonctions.ipynb\" target=\"_parent\"><img src=\"https://colab.research.google.com/assets/colab-badge.svg\" alt=\"Open In Colab\"/></a>"
      ]
    },
    {
      "cell_type": "code",
      "execution_count": 10,
      "metadata": {
        "colab": {
          "base_uri": "https://localhost:8080/",
          "height": 35
        },
        "id": "1ByqD26gt01B",
        "outputId": "7b773fd5-b4b5-4b46-da08-a07e9314905b"
      },
      "outputs": [
        {
          "output_type": "execute_result",
          "data": {
            "text/plain": [
              "'https://github.com/WISSAL-MN'"
            ],
            "application/vnd.google.colaboratory.intrinsic+json": {
              "type": "string"
            }
          },
          "metadata": {},
          "execution_count": 10
        }
      ],
      "source": [
        "'https://github.com/WISSAL-MN'"
      ]
    },
    {
      "cell_type": "markdown",
      "source": [
        "# 1. Variables et Operations\n",
        "Il existe 4 grands types de variables\n",
        "\n",
        "\n",
        "*   int (nombre entier)\n",
        "*   float (nombre décimal)\n",
        "*   string (chaine de characteres)\n",
        "*   bool (booléen)\n",
        "\n"
      ],
      "metadata": {
        "id": "CwmMU1-qt4MF"
      }
    },
    {
      "cell_type": "code",
      "source": [
        "x = 3 # type int \n",
        "y = 2.5 # type float\n",
        "prenom = 'wiss' # type string\n",
        "z = True # type Bool"
      ],
      "metadata": {
        "id": "3UZLmdhLumpI"
      },
      "execution_count": 2,
      "outputs": []
    },
    {
      "cell_type": "code",
      "source": [
        "# Opérations arithmétiques\n",
        "print('x + y =', x + y)\n",
        "print('x - y =', x - y)\n",
        "print('x / y =', x / y)\n",
        "print('x // y =', x // y) # division entiere (tres utile pour les tableaux Numpy)\n",
        "print('x * y =', x * y)\n",
        "print('x ^ y =', x ** y) # x puissance y"
      ],
      "metadata": {
        "colab": {
          "base_uri": "https://localhost:8080/"
        },
        "id": "U2NThxBEuwCz",
        "outputId": "4d99e1d1-1825-406e-cbc3-8ff851971730"
      },
      "execution_count": 3,
      "outputs": [
        {
          "output_type": "stream",
          "name": "stdout",
          "text": [
            "x + y = 5.5\n",
            "x - y = 0.5\n",
            "x / y = 1.2\n",
            "x // y = 1.0\n",
            "x * y = 7.5\n",
            "x ^ y = 15.588457268119896\n"
          ]
        }
      ]
    },
    {
      "cell_type": "code",
      "source": [
        "# Opérations de comparaison\n",
        "print('égalité :', x == y)\n",
        "print('inégalité :', x != y)\n",
        "print('inférieur ou égal :', x <= y)\n",
        "print('supérieur ou égal :', x >= y)"
      ],
      "metadata": {
        "colab": {
          "base_uri": "https://localhost:8080/"
        },
        "id": "_xfWNwebvDku",
        "outputId": "65752d72-c804-4fa0-e4e4-372bc4555e8d"
      },
      "execution_count": 4,
      "outputs": [
        {
          "output_type": "stream",
          "name": "stdout",
          "text": [
            "égalité : False\n",
            "inégalité : True\n",
            "inférieur ou égal : False\n",
            "supérieur ou égal : True\n"
          ]
        }
      ]
    },
    {
      "cell_type": "code",
      "source": [
        "# Opérations Logiques\n",
        "print('ET :', False and True)\n",
        "print('OU :', False or True)\n",
        "print('OU exclusif :', False ^ True)"
      ],
      "metadata": {
        "colab": {
          "base_uri": "https://localhost:8080/"
        },
        "id": "81w1WriOvGqq",
        "outputId": "923cff87-6029-4f82-d867-2fd2f3844e6b"
      },
      "execution_count": 5,
      "outputs": [
        {
          "output_type": "stream",
          "name": "stdout",
          "text": [
            "ET : False\n",
            "OU : True\n",
            "OU exclusif : True\n"
          ]
        }
      ]
    },
    {
      "cell_type": "markdown",
      "source": [
        "# 2. Fonctions\n",
        "Une fonction anonyme est une fonction créée avec lambda. Ce type de fonction est basique et est utile pour etre intégrée au milieu de structures de controles ou bien d'autres fonctions. On l'utilise rarement."
      ],
      "metadata": {
        "id": "Qi8oL7UsvJGy"
      }
    },
    {
      "cell_type": "code",
      "source": [
        "# Exemple d'une fonction f(x) = x^2\n",
        "f = lambda x : x**2\n",
        "\n",
        "print(f(3))"
      ],
      "metadata": {
        "colab": {
          "base_uri": "https://localhost:8080/"
        },
        "id": "92hUOn49vKM7",
        "outputId": "b96c63ae-6765-4986-bf3f-d48f618cec9c"
      },
      "execution_count": 6,
      "outputs": [
        {
          "output_type": "stream",
          "name": "stdout",
          "text": [
            "9\n"
          ]
        }
      ]
    },
    {
      "cell_type": "code",
      "source": [
        "# Exemple d'une fonction g(x, y) = x^2 - y^2\n",
        "g = lambda x, y : x**2 - y**2\n",
        "\n",
        "print(g(4, 2))"
      ],
      "metadata": {
        "colab": {
          "base_uri": "https://localhost:8080/"
        },
        "id": "yp_nx7-bvKP5",
        "outputId": "bd67a79d-30ed-47e5-afe0-b0778ed9a290"
      },
      "execution_count": 7,
      "outputs": [
        {
          "output_type": "stream",
          "name": "stdout",
          "text": [
            "12\n"
          ]
        }
      ]
    },
    {
      "cell_type": "code",
      "source": [
        "# une fonction a un nom, prend des entrées (arguments) et les transforme pour retourner un résultat\n",
        "\n",
        "def nom_de_la_fonction(argument_1, argument_2):\n",
        "   restultat = argument_1 + argument_2\n",
        "   return restultat\n",
        "\n",
        "nom_de_la_fonction(3, 2)"
      ],
      "metadata": {
        "colab": {
          "base_uri": "https://localhost:8080/"
        },
        "id": "6BJHXqrovKUT",
        "outputId": "314e6be9-9d64-4fbf-bfff-dc801ac10355"
      },
      "execution_count": 8,
      "outputs": [
        {
          "output_type": "execute_result",
          "data": {
            "text/plain": [
              "5"
            ]
          },
          "metadata": {},
          "execution_count": 8
        }
      ]
    },
    {
      "cell_type": "code",
      "source": [
        "# Exemple concret : fonction qui calcul l'energie potentielle d'un corps\n",
        "\n",
        "def e_potentielle(masse, hauteur, g=9.81):\n",
        "  energie = masse * hauteur * g \n",
        "  return energie\n",
        "\n",
        "# ici g a une valeur par défaut donc nous ne sommes pas obligé de lui donner une valeur\n",
        "e_potentielle(masse=10, hauteur=10)"
      ],
      "metadata": {
        "colab": {
          "base_uri": "https://localhost:8080/"
        },
        "id": "H8s9P3SVvUDz",
        "outputId": "7df7ed5b-86b0-49ee-cbf1-7b09fbb8e36f"
      },
      "execution_count": 9,
      "outputs": [
        {
          "output_type": "execute_result",
          "data": {
            "text/plain": [
              "981.0"
            ]
          },
          "metadata": {},
          "execution_count": 9
        }
      ]
    },
    {
      "cell_type": "code",
      "source": [
        ""
      ],
      "metadata": {
        "id": "mhBV4tX9vUKr"
      },
      "execution_count": null,
      "outputs": []
    },
    {
      "cell_type": "code",
      "source": [
        ""
      ],
      "metadata": {
        "id": "P3mOQRMzvUNB"
      },
      "execution_count": null,
      "outputs": []
    }
  ]
}