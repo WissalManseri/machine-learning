{
  "nbformat": 4,
  "nbformat_minor": 0,
  "metadata": {
    "colab": {
      "name": " Dictionnaires.ipynb",
      "provenance": [],
      "authorship_tag": "ABX9TyMj+ROBuGmvX+NS9glXyORi",
      "include_colab_link": true
    },
    "kernelspec": {
      "name": "python3",
      "display_name": "Python 3"
    },
    "language_info": {
      "name": "python"
    }
  },
  "cells": [
    {
      "cell_type": "markdown",
      "metadata": {
        "id": "view-in-github",
        "colab_type": "text"
      },
      "source": [
        "<a href=\"https://colab.research.google.com/github/WISSAL-MN/machine-learning/blob/main/Dictionnaires.ipynb\" target=\"_parent\"><img src=\"https://colab.research.google.com/assets/colab-badge.svg\" alt=\"Open In Colab\"/></a>"
      ]
    },
    {
      "cell_type": "code",
      "execution_count": 1,
      "metadata": {
        "colab": {
          "base_uri": "https://localhost:8080/",
          "height": 35
        },
        "id": "7eq3YIDJwrUZ",
        "outputId": "62224e5d-134e-4666-81a6-99498489b6cf"
      },
      "outputs": [
        {
          "output_type": "execute_result",
          "data": {
            "text/plain": [
              "'https://github.com/WISSAL-MN'"
            ],
            "application/vnd.google.colaboratory.intrinsic+json": {
              "type": "string"
            }
          },
          "metadata": {},
          "execution_count": 1
        }
      ],
      "source": [
        "'https://github.com/WISSAL-MN'"
      ]
    },
    {
      "cell_type": "markdown",
      "source": [
        "# **Dictionnaires**"
      ],
      "metadata": {
        "id": "LZzGECDJwtIq"
      }
    },
    {
      "cell_type": "markdown",
      "source": [
        "Les dictionnaires sont des structures de controle non-ordonnées, c'est-a-dire que les valeurs qu'ils contiennent ne sont pas rangée selon un index, mais suivant une clef unique."
      ],
      "metadata": {
        "id": "NKO6T-QOxAsf"
      }
    },
    {
      "cell_type": "code",
      "source": [
        "inventaire = {'pommes': 100,\n",
        "              'bananes': 80,\n",
        "              'poires': 120}"
      ],
      "metadata": {
        "id": "1atLsZGowvd2"
      },
      "execution_count": 2,
      "outputs": []
    },
    {
      "cell_type": "code",
      "source": [
        "inventaire.values()"
      ],
      "metadata": {
        "colab": {
          "base_uri": "https://localhost:8080/"
        },
        "id": "VQdfS21rxD_G",
        "outputId": "a50f120a-c8fd-4faf-d825-41d2bb126b1c"
      },
      "execution_count": 3,
      "outputs": [
        {
          "output_type": "execute_result",
          "data": {
            "text/plain": [
              "dict_values([100, 80, 120])"
            ]
          },
          "metadata": {},
          "execution_count": 3
        }
      ]
    },
    {
      "cell_type": "code",
      "source": [
        "inventaire.keys()"
      ],
      "metadata": {
        "colab": {
          "base_uri": "https://localhost:8080/"
        },
        "id": "CVeQqC3PxHVX",
        "outputId": "23fb6592-ef90-4457-da97-6d668c427fb2"
      },
      "execution_count": 4,
      "outputs": [
        {
          "output_type": "execute_result",
          "data": {
            "text/plain": [
              "dict_keys(['pommes', 'bananes', 'poires'])"
            ]
          },
          "metadata": {},
          "execution_count": 4
        }
      ]
    },
    {
      "cell_type": "code",
      "source": [
        "len(inventaire)"
      ],
      "metadata": {
        "colab": {
          "base_uri": "https://localhost:8080/"
        },
        "id": "irXQ417nxHf-",
        "outputId": "c5741f42-2254-486a-9a1c-c6bfa516811e"
      },
      "execution_count": 5,
      "outputs": [
        {
          "output_type": "execute_result",
          "data": {
            "text/plain": [
              "3"
            ]
          },
          "metadata": {},
          "execution_count": 5
        }
      ]
    },
    {
      "cell_type": "code",
      "source": [
        "inventaire['abricots'] = 30\n",
        "print(inventaire)"
      ],
      "metadata": {
        "colab": {
          "base_uri": "https://localhost:8080/"
        },
        "id": "Z5S89vp7xHjU",
        "outputId": "b26f08f0-c491-44e0-bd6a-b3f2f977d24f"
      },
      "execution_count": 6,
      "outputs": [
        {
          "output_type": "stream",
          "name": "stdout",
          "text": [
            "{'pommes': 100, 'bananes': 80, 'poires': 120, 'abricots': 30}\n"
          ]
        }
      ]
    },
    {
      "cell_type": "code",
      "source": [
        "inventaire.get('peches') # n'existe pas"
      ],
      "metadata": {
        "id": "-xa4oHvhxHlu"
      },
      "execution_count": 7,
      "outputs": []
    },
    {
      "cell_type": "code",
      "source": [
        "inventaire.get('pommes') # pomme existe"
      ],
      "metadata": {
        "colab": {
          "base_uri": "https://localhost:8080/"
        },
        "id": "wmb0nNUXxzKv",
        "outputId": "58f5f8b6-c5ec-44b5-f639-6f449b93cc59"
      },
      "execution_count": 9,
      "outputs": [
        {
          "output_type": "execute_result",
          "data": {
            "text/plain": [
              "100"
            ]
          },
          "metadata": {},
          "execution_count": 9
        }
      ]
    },
    {
      "cell_type": "markdown",
      "source": [
        "\n",
        "la méthode pop() permet de retirer une clef d'un dictionnaire tout en retournant la valeur associée a la clef."
      ],
      "metadata": {
        "id": "nlPAWuj9xzRY"
      }
    },
    {
      "cell_type": "code",
      "source": [
        "abricots = inventaire.pop(\"abricots\")\n",
        "print(inventaire) # ne contient plus de clef abricots\n",
        "print(abricots) # abricots contient la valeur du dictionnaire"
      ],
      "metadata": {
        "colab": {
          "base_uri": "https://localhost:8080/"
        },
        "id": "Qxx_NlumxzZv",
        "outputId": "e57f1c40-ebfc-4fc5-ef01-09d69635cc25"
      },
      "execution_count": 10,
      "outputs": [
        {
          "output_type": "stream",
          "name": "stdout",
          "text": [
            "{'pommes': 100, 'bananes': 80, 'poires': 120}\n",
            "30\n"
          ]
        }
      ]
    },
    {
      "cell_type": "code",
      "source": [
        "for key, value in inventaire.items():\n",
        "  print(key, value)"
      ],
      "metadata": {
        "colab": {
          "base_uri": "https://localhost:8080/"
        },
        "id": "tqCGdtVLxzcN",
        "outputId": "9d087ae6-a136-44b9-dabf-1bb8cab9994b"
      },
      "execution_count": 11,
      "outputs": [
        {
          "output_type": "stream",
          "name": "stdout",
          "text": [
            "pommes 100\n",
            "bananes 80\n",
            "poires 120\n"
          ]
        }
      ]
    },
    {
      "cell_type": "markdown",
      "source": [
        "immplémentation une fonction trier(classeur, valeur) qui place une valeur dans un dictionnaire en fonction de son signe"
      ],
      "metadata": {
        "id": "6LZF6AD_yEvW"
      }
    },
    {
      "cell_type": "code",
      "source": [
        "classeur = {'négatifs':[],\n",
        "            'positifs':[]\n",
        "            }\n",
        "\n",
        "def trier(classeur, valeur):\n",
        "  return classeur"
      ],
      "metadata": {
        "id": "Y0w_ldxHyIHH"
      },
      "execution_count": 12,
      "outputs": []
    },
    {
      "cell_type": "code",
      "source": [
        "# SOLUTION\n",
        "\n",
        "def trier(classeur, valeur):\n",
        "  if valeur >=0:\n",
        "    classeur['positifs'].append(valeur)\n",
        "  else:\n",
        "    classeur['négatifs'].append(valeur)\n",
        "  return classeur"
      ],
      "metadata": {
        "id": "4fmNrlBCyIQt"
      },
      "execution_count": 13,
      "outputs": []
    },
    {
      "cell_type": "code",
      "source": [
        "trier(classeur, 9)"
      ],
      "metadata": {
        "colab": {
          "base_uri": "https://localhost:8080/"
        },
        "id": "puRAbDPmyIT-",
        "outputId": "1b26f709-656a-4b19-fdd1-5c2538dd2850"
      },
      "execution_count": 14,
      "outputs": [
        {
          "output_type": "execute_result",
          "data": {
            "text/plain": [
              "{'négatifs': [], 'positifs': [9]}"
            ]
          },
          "metadata": {},
          "execution_count": 14
        }
      ]
    }
  ]
}