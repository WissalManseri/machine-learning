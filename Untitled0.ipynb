{
  "nbformat": 4,
  "nbformat_minor": 0,
  "metadata": {
    "colab": {
      "name": "Untitled0.ipynb",
      "provenance": [],
      "authorship_tag": "ABX9TyMUV2gyboRYb5uot/Bs/d/0",
      "include_colab_link": true
    },
    "kernelspec": {
      "name": "python3",
      "display_name": "Python 3"
    },
    "language_info": {
      "name": "python"
    }
  },
  "cells": [
    {
      "cell_type": "markdown",
      "metadata": {
        "id": "view-in-github",
        "colab_type": "text"
      },
      "source": [
        "<a href=\"https://colab.research.google.com/github/WISSAL-MN/machine-learning/blob/main/Untitled0.ipynb\" target=\"_parent\"><img src=\"https://colab.research.google.com/assets/colab-badge.svg\" alt=\"Open In Colab\"/></a>"
      ]
    },
    {
      "cell_type": "code",
      "execution_count": 10,
      "metadata": {
        "colab": {
          "base_uri": "https://localhost:8080/",
          "height": 35
        },
        "id": "B7Jz9ReJyfiI",
        "outputId": "800a360a-06ab-484b-a236-03c9d0fcb3e1"
      },
      "outputs": [
        {
          "output_type": "execute_result",
          "data": {
            "text/plain": [
              "'https://github.com/WISSAL-MN'"
            ],
            "application/vnd.google.colaboratory.intrinsic+json": {
              "type": "string"
            }
          },
          "metadata": {},
          "execution_count": 10
        }
      ],
      "source": [
        "'https://github.com/WISSAL-MN'"
      ]
    },
    {
      "cell_type": "markdown",
      "source": [
        "# **Structures de Controle**"
      ],
      "metadata": {
        "id": "Ui5DxyuGyio7"
      }
    },
    {
      "cell_type": "markdown",
      "source": [
        "il existe 3 principales structures de controle pour créer des algorithmes."
      ],
      "metadata": {
        "id": "hD3Cv2m1yo5n"
      }
    },
    {
      "cell_type": "markdown",
      "source": [
        "\n",
        "\n",
        "1.   Les alternatives **If / Else**\n",
        "2.   Les boucles **For**\n",
        "3.  Les boucles **While**\n",
        "\n"
      ],
      "metadata": {
        "id": "6g6TFLo2ypr2"
      }
    },
    {
      "cell_type": "markdown",
      "source": [
        "# 1. Alternatives If / Else :\n",
        "Cette structure permet de tester une séquence d'alternatives. Si une condition est respéctée, alors les instructions qui la suivent sont executée et la structure de controle est stopée, sinon la condition suivante est test"
      ],
      "metadata": {
        "id": "R2U-n_DGzE3F"
      }
    },
    {
      "cell_type": "code",
      "source": [
        "def test_du_signe(valeur):\n",
        "  if valeur < 0:\n",
        "    print('négatif')\n",
        "  elif valeur == 0:\n",
        "    print('nul')\n",
        "  else:\n",
        "    print('positif')"
      ],
      "metadata": {
        "id": "VfMQ0Iuty7Fm"
      },
      "execution_count": 1,
      "outputs": []
    },
    {
      "cell_type": "code",
      "source": [
        "test_du_signe(-2)"
      ],
      "metadata": {
        "colab": {
          "base_uri": "https://localhost:8080/"
        },
        "id": "lqxzzE93zJSU",
        "outputId": "76ff7eb4-c889-4f5a-8383-65e85608852a"
      },
      "execution_count": 3,
      "outputs": [
        {
          "output_type": "stream",
          "name": "stdout",
          "text": [
            "négatif\n"
          ]
        }
      ]
    },
    {
      "cell_type": "code",
      "source": [
        "valeur = -2\n",
        "print(valeur < 0) # le résultat de cette comparaison est True\n",
        "\n",
        "if valeur < 0:\n",
        "  print('négatif')"
      ],
      "metadata": {
        "colab": {
          "base_uri": "https://localhost:8080/"
        },
        "id": "DX8ZVWEYzJVU",
        "outputId": "8fc209f1-b2db-48c7-fad3-4113ff28b204"
      },
      "execution_count": 5,
      "outputs": [
        {
          "output_type": "stream",
          "name": "stdout",
          "text": [
            "True\n",
            "négatif\n"
          ]
        }
      ]
    },
    {
      "cell_type": "code",
      "source": [
        "x = 3\n",
        "y = -1\n",
        "if (x>0) and (y>0):\n",
        "  print('x et y sont positifs')\n",
        "else:\n",
        "  print('x et y ne sont pas tous les 2 positifs')"
      ],
      "metadata": {
        "colab": {
          "base_uri": "https://localhost:8080/"
        },
        "id": "60rkqpY5zJYb",
        "outputId": "ef2fe32f-f4e3-4db0-b73d-1250a15baf01"
      },
      "execution_count": 6,
      "outputs": [
        {
          "output_type": "stream",
          "name": "stdout",
          "text": [
            "x et y ne sont pas tous les 2 positifs\n"
          ]
        }
      ]
    },
    {
      "cell_type": "markdown",
      "source": [
        "# 2. Boucle For\n",
        "Une boucle for permet de créer des algorithmes itératifs (qui effectuent une certaine tache plusieurs fois de suite). Pour ca, la boucle parcourt tous les éléments d'un objet dit itérable. Il peut s'agir d'une liste, d'un dictionnaire, d'un range, d'un tableau numpy, ou de bien d'autres objets..."
      ],
      "metadata": {
        "id": "zqKY3n6zzW-m"
      }
    },
    {
      "cell_type": "code",
      "source": [
        "# range(début, fin, pas) est une built-in fonction tres utile de python qui retourne un itérable.\n",
        "for i in range(0, 10):\n",
        "  print(i)"
      ],
      "metadata": {
        "colab": {
          "base_uri": "https://localhost:8080/"
        },
        "id": "kWnW6n4izbdk",
        "outputId": "d55e4e89-770f-4fe0-a660-b70baa644c97"
      },
      "execution_count": 7,
      "outputs": [
        {
          "output_type": "stream",
          "name": "stdout",
          "text": [
            "0\n",
            "1\n",
            "2\n",
            "3\n",
            "4\n",
            "5\n",
            "6\n",
            "7\n",
            "8\n",
            "9\n"
          ]
        }
      ]
    },
    {
      "cell_type": "code",
      "source": [
        "# on peut s'amuser a combiner cette boucle avec notre fonction de tout a l'heure.\n",
        "for i in range(-10, 10, 2):\n",
        "  print(i)\n",
        "  test_du_signe(i)"
      ],
      "metadata": {
        "colab": {
          "base_uri": "https://localhost:8080/"
        },
        "id": "1oTEXoyyzbgr",
        "outputId": "ce7edb13-fd9d-4885-fe87-a23570ba4644"
      },
      "execution_count": 8,
      "outputs": [
        {
          "output_type": "stream",
          "name": "stdout",
          "text": [
            "-10\n",
            "négatif\n",
            "-8\n",
            "négatif\n",
            "-6\n",
            "négatif\n",
            "-4\n",
            "négatif\n",
            "-2\n",
            "négatif\n",
            "0\n",
            "nul\n",
            "2\n",
            "positif\n",
            "4\n",
            "positif\n",
            "6\n",
            "positif\n",
            "8\n",
            "positif\n"
          ]
        }
      ]
    },
    {
      "cell_type": "markdown",
      "source": [
        "# 3. Boucle While\n",
        "Une boucle While permet d'effectuer en boucle une action, tant que la condition d'execution est validée (tant que la condition est True)"
      ],
      "metadata": {
        "id": "dUZZ5PlwzXKd"
      }
    },
    {
      "cell_type": "code",
      "source": [
        "x = 0\n",
        "while x < 10:\n",
        "  print(x)\n",
        "  x += 1 # incrémente x de 1 (équivalent de x = x+1)"
      ],
      "metadata": {
        "colab": {
          "base_uri": "https://localhost:8080/"
        },
        "id": "QQucv92RzkH7",
        "outputId": "c5677e07-286c-4345-cfac-d64af5cfcccd"
      },
      "execution_count": 9,
      "outputs": [
        {
          "output_type": "stream",
          "name": "stdout",
          "text": [
            "0\n",
            "1\n",
            "2\n",
            "3\n",
            "4\n",
            "5\n",
            "6\n",
            "7\n",
            "8\n",
            "9\n"
          ]
        }
      ]
    },
    {
      "cell_type": "code",
      "source": [
        ""
      ],
      "metadata": {
        "id": "Clcu42qvzkKy"
      },
      "execution_count": null,
      "outputs": []
    }
  ]
}