{
  "nbformat": 4,
  "nbformat_minor": 0,
  "metadata": {
    "colab": {
      "name": "Functions.ipynb",
      "provenance": [],
      "authorship_tag": "ABX9TyN3zKXNfjluz/+d7YEKgbRL",
      "include_colab_link": true
    },
    "kernelspec": {
      "name": "python3",
      "display_name": "Python 3"
    },
    "language_info": {
      "name": "python"
    }
  },
  "cells": [
    {
      "cell_type": "markdown",
      "metadata": {
        "id": "view-in-github",
        "colab_type": "text"
      },
      "source": [
        "<a href=\"https://colab.research.google.com/github/WISSAL-MN/machine-learning/blob/main/Functions.ipynb\" target=\"_parent\"><img src=\"https://colab.research.google.com/assets/colab-badge.svg\" alt=\"Open In Colab\"/></a>"
      ]
    },
    {
      "cell_type": "code",
      "execution_count": 1,
      "metadata": {
        "colab": {
          "base_uri": "https://localhost:8080/",
          "height": 35
        },
        "id": "fYQQMxHp0FKb",
        "outputId": "64acf2b2-4332-4379-d37e-2d0ec5ab3101"
      },
      "outputs": [
        {
          "output_type": "execute_result",
          "data": {
            "text/plain": [
              "'https://github.com/WISSAL-MN'"
            ],
            "application/vnd.google.colaboratory.intrinsic+json": {
              "type": "string"
            }
          },
          "metadata": {},
          "execution_count": 1
        }
      ],
      "source": [
        "'https://github.com/WISSAL-MN'"
      ]
    },
    {
      "cell_type": "markdown",
      "source": [
        "### Python contient un grand nombre de fonctions intégrées tres utiles a connaitre. Cela vous permet de construire des codes plus rapidement, sans avoir a développer vos propres fonctions pour les taches les plus basique. Dans ce notebook, je vous montre les plus importantes :"
      ],
      "metadata": {
        "id": "sVhi4UF10Z4x"
      }
    },
    {
      "cell_type": "markdown",
      "source": [
        "\n",
        "\n",
        "\n",
        "*   Fonctions de bases : abs(), round(), max(), min(), len(), sum(), any(),all()\n",
        "*   Conversions de types de variables: int() str(), float(), type()\n",
        "*   Conversions de structures de données: list(), tuple()\n",
        "*  Conversions binaires (moins utile en machine learning): bin(), oct(), hex()\n",
        "*  Fonction input()\n",
        "*  Fonction format() (f-string)\n",
        "*   Fonction open()\n",
        "\n",
        "\n"
      ],
      "metadata": {
        "id": "nF0PTqtM0iD5"
      }
    },
    {
      "cell_type": "markdown",
      "source": [
        "# **1. Fonction de bases**"
      ],
      "metadata": {
        "id": "aeaHT7in0-Tf"
      }
    },
    {
      "cell_type": "code",
      "source": [
        "x = -3.14\n",
        "print(abs(x)) # valeur absolue\n",
        "print(round(x)) # arrondi"
      ],
      "metadata": {
        "colab": {
          "base_uri": "https://localhost:8080/"
        },
        "id": "TyLycWvK0aIg",
        "outputId": "3eab8bf3-1bd7-4d0f-cd9c-5947becae665"
      },
      "execution_count": 2,
      "outputs": [
        {
          "output_type": "stream",
          "name": "stdout",
          "text": [
            "3.14\n",
            "-3\n"
          ]
        }
      ]
    },
    {
      "cell_type": "code",
      "source": [
        "liste = [-2, 3, 1, 0, -4]\n",
        "\n",
        "print(min(liste)) # minimum\n",
        "print(max(liste)) # maximum\n",
        "print(len(liste)) # longueur\n",
        "print(sum(liste)) # somme des éléments"
      ],
      "metadata": {
        "colab": {
          "base_uri": "https://localhost:8080/"
        },
        "id": "wav12fua0aTn",
        "outputId": "a1ac939b-de50-4049-c918-38d0b8195add"
      },
      "execution_count": 3,
      "outputs": [
        {
          "output_type": "stream",
          "name": "stdout",
          "text": [
            "-4\n",
            "3\n",
            "5\n",
            "-2\n"
          ]
        }
      ]
    },
    {
      "cell_type": "code",
      "source": [
        "liste = [False, False, True]\n",
        "\n",
        "print(any(liste)) # y-a-t'il au moins un élément True ?\n",
        "print(all(liste)) # est-ce-que tous les éléments sont True ?"
      ],
      "metadata": {
        "colab": {
          "base_uri": "https://localhost:8080/"
        },
        "id": "dIgcNFS00aWp",
        "outputId": "cc126f81-50fe-42f7-f5f3-5b2f61ce9252"
      },
      "execution_count": 4,
      "outputs": [
        {
          "output_type": "stream",
          "name": "stdout",
          "text": [
            "True\n",
            "False\n"
          ]
        }
      ]
    },
    {
      "cell_type": "markdown",
      "source": [
        "# 2. Fonction de conversion\n",
        "Il peut etre tres utile de convertir une variable d'un type a un autre (par exemple pour faire des calculs). Pour cela, on dispose des fonctions int(), str() et float().\n",
        "\n",
        "La fonction type() est tres utile pour inspecter les types de nos variables"
      ],
      "metadata": {
        "id": "8rNEROGp1Kno"
      }
    },
    {
      "cell_type": "code",
      "source": [
        "age = '20'\n",
        "type(age)"
      ],
      "metadata": {
        "colab": {
          "base_uri": "https://localhost:8080/"
        },
        "id": "TON0jiIU0aa_",
        "outputId": "35ef660e-0d51-4135-9778-bff140815921"
      },
      "execution_count": 5,
      "outputs": [
        {
          "output_type": "execute_result",
          "data": {
            "text/plain": [
              "str"
            ]
          },
          "metadata": {},
          "execution_count": 5
        }
      ]
    },
    {
      "cell_type": "code",
      "source": [
        "age = int(age)\n",
        "type(age)"
      ],
      "metadata": {
        "colab": {
          "base_uri": "https://localhost:8080/"
        },
        "id": "ZLS2RQU81Ssn",
        "outputId": "0ffeeadd-a8c5-4b97-9f95-4c2f17fb8a6b"
      },
      "execution_count": 6,
      "outputs": [
        {
          "output_type": "execute_result",
          "data": {
            "text/plain": [
              "int"
            ]
          },
          "metadata": {},
          "execution_count": 6
        }
      ]
    },
    {
      "cell_type": "code",
      "source": [
        "age + 10"
      ],
      "metadata": {
        "colab": {
          "base_uri": "https://localhost:8080/"
        },
        "id": "Me-kHRqb1Svc",
        "outputId": "c3d9e35f-1c21-45e3-df19-52eecae2b703"
      },
      "execution_count": 7,
      "outputs": [
        {
          "output_type": "execute_result",
          "data": {
            "text/plain": [
              "30"
            ]
          },
          "metadata": {},
          "execution_count": 7
        }
      ]
    },
    {
      "cell_type": "code",
      "source": [
        "tuple_1 = (1, 2, 3, 4)\n",
        "\n",
        "liste_1 = list(tuple_1) # convertir un tuple en liste\n",
        "\n",
        "type(liste_1)"
      ],
      "metadata": {
        "colab": {
          "base_uri": "https://localhost:8080/"
        },
        "id": "ALbBlIg21Syd",
        "outputId": "d419d1ea-8f2a-4785-c8a1-3940fa6a72cb"
      },
      "execution_count": 8,
      "outputs": [
        {
          "output_type": "execute_result",
          "data": {
            "text/plain": [
              "list"
            ]
          },
          "metadata": {},
          "execution_count": 8
        }
      ]
    },
    {
      "cell_type": "markdown",
      "source": [
        "On peut également convertir des listes en tuples, ou des tableaux Numpy en list ..."
      ],
      "metadata": {
        "id": "hrImHfu71Z_c"
      }
    },
    {
      "cell_type": "markdown",
      "source": [
        "# **3. La fonction input()**"
      ],
      "metadata": {
        "id": "Ibg81QIx1oPf"
      }
    },
    {
      "cell_type": "code",
      "source": [
        "age = input('quel age avez-vous ?')"
      ],
      "metadata": {
        "colab": {
          "base_uri": "https://localhost:8080/"
        },
        "id": "qSciWomB1ePs",
        "outputId": "246feb36-7778-49df-f43c-06dc9fbd04dd"
      },
      "execution_count": 14,
      "outputs": [
        {
          "name": "stdout",
          "output_type": "stream",
          "text": [
            "quel age avez-vous ?20\n"
          ]
        }
      ]
    },
    {
      "cell_type": "code",
      "source": [
        "type(age) # age est de type string. il faut penser a le convertir si on désire faire un calcul avec"
      ],
      "metadata": {
        "colab": {
          "base_uri": "https://localhost:8080/"
        },
        "id": "FMQF0jdM1eS6",
        "outputId": "ef1d69bd-7561-4f8e-f08e-26692f99e01e"
      },
      "execution_count": 15,
      "outputs": [
        {
          "output_type": "execute_result",
          "data": {
            "text/plain": [
              "str"
            ]
          },
          "metadata": {},
          "execution_count": 15
        }
      ]
    },
    {
      "cell_type": "markdown",
      "source": [
        "# **4. La fonction format()**\n",
        "cette fonction permet d'insérer la valeur d'une variable au sein d'une chaine de cacacteres (string).\n",
        "\n",
        "Une méthode plus rapide pour utiliser cette fonction est de faire appel au **f-string**"
      ],
      "metadata": {
        "id": "w4L4eKL41jKe"
      }
    },
    {
      "cell_type": "code",
      "source": [
        "x = 25\n",
        "ville = 'Paris'\n",
        "\n",
        "message = 'il fait {} degrés a {}'.format(x, ville)\n",
        "print(message)"
      ],
      "metadata": {
        "colab": {
          "base_uri": "https://localhost:8080/"
        },
        "id": "aEPPzn961jSF",
        "outputId": "fc0349ec-c60b-4690-b1ed-9f73218d4e6d"
      },
      "execution_count": 12,
      "outputs": [
        {
          "output_type": "stream",
          "name": "stdout",
          "text": [
            "il fait 25 degrés a Paris\n"
          ]
        }
      ]
    },
    {
      "cell_type": "code",
      "source": [
        "message = f'il fait {x} degrées a {ville}'\n",
        "print(message)"
      ],
      "metadata": {
        "colab": {
          "base_uri": "https://localhost:8080/"
        },
        "id": "ZW_4pg_m1jVO",
        "outputId": "7888a13b-adaa-4582-c2fd-681a50f223a6"
      },
      "execution_count": 13,
      "outputs": [
        {
          "output_type": "stream",
          "name": "stdout",
          "text": [
            "il fait 25 degrées a Paris\n"
          ]
        }
      ]
    },
    {
      "cell_type": "markdown",
      "source": [
        "# 5. La fonction open()**texte en gras**"
      ],
      "metadata": {
        "id": "_9qeiw_V1jeO"
      }
    },
    {
      "cell_type": "markdown",
      "source": [
        "\n",
        "1. le mode 'r' : lire un fichier de votre ordinateur\n",
        "2. le mode 'w' : écrire un fichier sur votre ordinateur\n",
        "3. le mode 'a' : (append) ajouter du contenu dans un fichier existant\n",
        "\n"
      ],
      "metadata": {
        "id": "onk1rQd211ym"
      }
    },
    {
      "cell_type": "code",
      "source": [
        "f = open('text.txt', 'w') # ouverture d'un objet fichier f\n",
        "f.write('hello')\n",
        "f.close() # il faut fermer notre fichier une fois le travail terminé"
      ],
      "metadata": {
        "id": "1yUlYrvu1jlB"
      },
      "execution_count": 9,
      "outputs": []
    },
    {
      "cell_type": "code",
      "source": [
        "f = open('text.txt', 'r')\n",
        "print(f.read())\n",
        "f.close() "
      ],
      "metadata": {
        "colab": {
          "base_uri": "https://localhost:8080/"
        },
        "id": "bW6m8CjW1jn2",
        "outputId": "4e7651bd-e2df-4c1b-8af2-f4629d2d4e0c"
      },
      "execution_count": 10,
      "outputs": [
        {
          "output_type": "stream",
          "name": "stdout",
          "text": [
            "hello\n"
          ]
        }
      ]
    }
  ]
}